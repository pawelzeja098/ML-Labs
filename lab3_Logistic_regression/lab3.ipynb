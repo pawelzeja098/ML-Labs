{
 "cells": [
  {
   "cell_type": "code",
   "execution_count": 2,
   "metadata": {},
   "outputs": [],
   "source": [
    "import csv\n",
    "import math\n",
    "import numpy as np\n",
    "from matplotlib import pyplot as plt"
   ]
  },
  {
   "cell_type": "code",
   "execution_count": 3,
   "metadata": {},
   "outputs": [],
   "source": [
    "def h_fun(X, theta):\n",
    "    z = theta.T @ X\n",
    "    h = 1.0 / (1.0 + np.exp(-z))\n",
    "    return h\n"
   ]
  },
  {
   "cell_type": "code",
   "execution_count": 4,
   "metadata": {},
   "outputs": [],
   "source": [
    "def calculate_cost(X, y, theta):\n",
    "    h = h_fun(X, theta)\n",
    "    y_1 = -y*np.log(h)\n",
    "    y_0 = -(1-y)*np.log(1-h)\n",
    "    return (y_1 + y_0).sum() / X.shape[1]"
   ]
  },
  {
   "cell_type": "code",
   "execution_count": 59,
   "metadata": {},
   "outputs": [],
   "source": [
    "X = np.array([[1.0, 1.0, 1.0, 1.0, 1.0, 1.0, 1.0, 1.0],\n",
    "              [0.3, 0.8, 1.7, 2.4, 2.9, 3.1, 4.5, 6.1]])\n",
    "y = np.array([[0.0, 0.0, 0.0, 0.0, 1.0, 1.0, 1.0, 1.0]])"
   ]
  },
  {
   "cell_type": "code",
   "execution_count": 60,
   "metadata": {},
   "outputs": [
    {
     "ename": "KeyboardInterrupt",
     "evalue": "",
     "output_type": "error",
     "traceback": [
      "\u001b[31m---------------------------------------------------------------------------\u001b[39m",
      "\u001b[31mKeyboardInterrupt\u001b[39m                         Traceback (most recent call last)",
      "\u001b[36mCell\u001b[39m\u001b[36m \u001b[39m\u001b[32mIn[60]\u001b[39m\u001b[32m, line 29\u001b[39m\n\u001b[32m     24\u001b[39m     theta = theta - (alpha / m) * gradient.T\n\u001b[32m     28\u001b[39m     cost_old = cost_new\n\u001b[32m---> \u001b[39m\u001b[32m29\u001b[39m     cost_new = \u001b[43mcalculate_cost\u001b[49m\u001b[43m(\u001b[49m\u001b[43mX\u001b[49m\u001b[43m,\u001b[49m\u001b[43my\u001b[49m\u001b[43m,\u001b[49m\u001b[43mtheta\u001b[49m\u001b[43m)\u001b[49m\n\u001b[32m     32\u001b[39m \u001b[38;5;28mprint\u001b[39m(\u001b[33mf\u001b[39m\u001b[33m\"\u001b[39m\u001b[33mThetas:\u001b[39m\u001b[38;5;132;01m{\u001b[39;00mtheta\u001b[38;5;132;01m}\u001b[39;00m\u001b[33m\"\u001b[39m)\n\u001b[32m     33\u001b[39m \u001b[38;5;28mprint\u001b[39m(cost_new)\n",
      "\u001b[36mCell\u001b[39m\u001b[36m \u001b[39m\u001b[32mIn[4]\u001b[39m\u001b[32m, line 4\u001b[39m, in \u001b[36mcalculate_cost\u001b[39m\u001b[34m(X, y, theta)\u001b[39m\n\u001b[32m      2\u001b[39m h = h_fun(X, theta)\n\u001b[32m      3\u001b[39m y_1 = -y*np.log(h)\n\u001b[32m----> \u001b[39m\u001b[32m4\u001b[39m y_0 = -(\u001b[32m1\u001b[39m-y)*\u001b[43mnp\u001b[49m\u001b[43m.\u001b[49m\u001b[43mlog\u001b[49m\u001b[43m(\u001b[49m\u001b[32;43m1\u001b[39;49m\u001b[43m-\u001b[49m\u001b[43mh\u001b[49m\u001b[43m)\u001b[49m\n\u001b[32m      5\u001b[39m \u001b[38;5;28;01mreturn\u001b[39;00m (y_1 + y_0).sum() / X.shape[\u001b[32m1\u001b[39m]\n",
      "\u001b[31mKeyboardInterrupt\u001b[39m: "
     ]
    }
   ],
   "source": [
    "eps = 1e-10\n",
    "alpha = 1e-3\n",
    "theta = np.array([[0], [0]])\n",
    "\n",
    "\n",
    "\n",
    "cost_old = calculate_cost(X,y,theta)\n",
    "cost_new = np.inf\n",
    "\n",
    "m = X.shape[1]\n",
    "\n",
    "\n",
    "\n",
    "while abs(cost_old - cost_new) > eps:\n",
    "    grad0 = 0\n",
    "    grad1 = 0\n",
    "\n",
    "    # for i in range(m):\n",
    "    #     grad1 += (h_fun(x[i],theta) - y[i]) * x[i]\n",
    "\n",
    "    h_y_diff = (h_fun(X, theta) - y)\n",
    "    \n",
    "    gradient = h_y_diff @ X.T\n",
    "    theta = theta - (alpha / m) * gradient.T\n",
    "    \n",
    "   \n",
    "\n",
    "    cost_old = cost_new\n",
    "    cost_new = calculate_cost(X,y,theta)\n",
    "\n",
    "\n",
    "print(f\"Thetas:{theta}\")\n",
    "print(cost_new)\n",
    "\n",
    "\n",
    "\n",
    "y_reg = h_fun(X,theta)\n",
    "\n",
    "X_1 = X[1]\n",
    "X_1.shape = (1,8)\n",
    "\n",
    "colors = ['red' if x == 0 else 'green' for x in y[0]]\n",
    "labels = {0: \"Nie należy do klasy\", 1: \"Należy do klasy\"}\n",
    "\n",
    "plt.plot(np.array(X_1).reshape(-1), np.array(y_reg).reshape(-1))\n",
    "for i in range(len(X[1])):\n",
    "    plt.scatter(X[1],y,color=colors,label=labels[y[0][i]])\n",
    "\n",
    "plt.show()\n"
   ]
  },
  {
   "cell_type": "markdown",
   "metadata": {},
   "source": [
    "Zad. 2"
   ]
  },
  {
   "cell_type": "code",
   "execution_count": 7,
   "metadata": {},
   "outputs": [
    {
     "name": "stdout",
     "output_type": "stream",
     "text": [
      "Thetas:[[-24.15253605]\n",
      " [  0.19816384]\n",
      " [  0.193308  ]]\n",
      "0.20365442827269453\n",
      "30.05882244669796\n",
      "99.82785779692128\n",
      "X.shape=(3, 100)\n",
      "y.shape=(1, 100)\n"
     ]
    },
    {
     "data": {
      "text/plain": [
       "[<matplotlib.lines.Line2D at 0x1681c3f4980>]"
      ]
     },
     "execution_count": 7,
     "metadata": {},
     "output_type": "execute_result"
    },
    {
     "data": {
      "image/png": "[encoded data removed]",
      "text/plain": [
       "<Figure size 640x480 with 1 Axes>"
      ]
     },
     "metadata": {},
     "output_type": "display_data"
    }
   ],
   "source": [
    "with open(\"./admission.txt\") as f:\n",
    "    csv_reader = csv.reader(f)\n",
    "    examples = []\n",
    "    for row in csv_reader:\n",
    "        examples.append([float(cell) for cell in row])\n",
    "    data = np.array(examples)\n",
    "    y = data[:, 2:3].T\n",
    "    x = data[:, :2].T\n",
    "    X = np.concatenate([np.ones([1, x.shape[1]]), x])\n",
    " \n",
    "eps = 1e-10\n",
    "alpha = 1e-3\n",
    "theta = np.array([[0], [0], [0]])\n",
    "\n",
    "\n",
    "\n",
    "cost_old = calculate_cost(X,y,theta)\n",
    "cost_new = np.inf\n",
    "\n",
    "m = X.shape[1]\n",
    "\n",
    "\n",
    "\n",
    "while abs(cost_old - cost_new) > eps:\n",
    "    grad0 = 0\n",
    "    grad1 = 0\n",
    "\n",
    "    # for i in range(m):\n",
    "    #     grad1 += (h_fun(x[i],theta) - y[i]) * x[i]\n",
    "\n",
    "    h_y_diff = (h_fun(X, theta) - y)\n",
    "    \n",
    "    gradient = h_y_diff @ X.T\n",
    "    theta = theta - (alpha / m) * gradient.T\n",
    "    \n",
    "   \n",
    "\n",
    "    cost_old = cost_new\n",
    "    cost_new = calculate_cost(X,y,theta)\n",
    "\n",
    "\n",
    "print(f\"Thetas:{theta}\")\n",
    "print(cost_new)\n",
    "\n",
    "print(X[1,:].min())\n",
    "print(X[1,:].max())\n",
    "print(f'{X.shape=}')\n",
    "print(f'{y.shape=}')\n",
    "\n",
    "colors = ['red' if x == 0 else 'green' for x in y[0]]\n",
    "labels = {0: \"Nie należy do klasy\", 1: \"Należy do klasy\"}\n",
    "\n",
    "\n",
    "for i in range(len(X[0])):\n",
    "    plt.scatter(X[1][i],X[2][i],color=colors[i],label=labels[X[0][i]])\n",
    "x1_db = np.arange(X[1, :].min(), X[1, :].max(), 1)\n",
    "x2_db = -theta[0, 0]/theta[2, 0] - theta[1, 0]/theta[2, 0]*x1_db\n",
    "plt.plot(x1_db, x2_db, '-m')"
   ]
  },
  {
   "cell_type": "markdown",
   "metadata": {},
   "source": [
    "Zad. 3"
   ]
  },
  {
   "cell_type": "code",
   "execution_count": 8,
   "metadata": {},
   "outputs": [
    {
     "name": "stdout",
     "output_type": "stream",
     "text": [
      "Thetas:[[-19.32593183]\n",
      " [ 51.6601806 ]\n",
      " [ 17.85923146]\n",
      " [-34.35443066]]\n",
      "0.12112936804906738\n",
      "X.shape=(4, 100)\n",
      "y.shape=(1, 100)\n",
      "0.0\n",
      "1.0\n"
     ]
    },
    {
     "data": {
      "text/plain": [
       "[<matplotlib.lines.Line2D at 0x1681f90fce0>]"
      ]
     },
     "execution_count": 8,
     "metadata": {},
     "output_type": "execute_result"
    },
    {
     "data": {
      "image/png": "[encoded data removed]",
      "text/plain": [
       "<Figure size 640x480 with 1 Axes>"
      ]
     },
     "metadata": {},
     "output_type": "display_data"
    }
   ],
   "source": [
    "with open(\"./admission.txt\") as f:\n",
    "    csv_reader = csv.reader(f)\n",
    "    examples = []\n",
    "    for row in csv_reader:\n",
    "        examples.append([float(cell) for cell in row])\n",
    "    data = np.array(examples)\n",
    "    y = data[:, 2:3].T\n",
    "    x1 = data[:, :1].T\n",
    "    x2 = data[:, 1:2].T\n",
    "    X = np.concatenate([np.ones([1, x1.shape[1]]), x1, x2, x1**2])\n",
    "\n",
    "\n",
    "\n",
    "\n",
    "X_max = X.max(axis=1)\n",
    "X_max.shape = [X_max.shape[0], 1]\n",
    "X_min = X.min(axis=1)\n",
    "X_min[0] = 0\n",
    "X_min.shape = [X_min.shape[0], 1]\n",
    "X = (X - X_min) / (X_max - X_min)\n",
    "\n",
    "\n",
    "eps = 1e-9\n",
    "alpha = 1e-3\n",
    "theta = np.array([[0], [0], [0], [0]])\n",
    "\n",
    "\n",
    "\n",
    "cost_old = calculate_cost(X,y,theta)\n",
    "cost_new = np.inf\n",
    "\n",
    "m = X.shape[1]\n",
    "\n",
    "\n",
    "\n",
    "while abs(cost_old - cost_new) > eps:\n",
    "    grad0 = 0\n",
    "    grad1 = 0\n",
    "\n",
    "    # for i in range(m):\n",
    "    #     grad1 += (h_fun(x[i],theta) - y[i]) * x[i]\n",
    "\n",
    "    h_y_diff = (h_fun(X, theta) - y)\n",
    "    \n",
    "    gradient = h_y_diff @ X.T\n",
    "    theta = theta - (alpha / m) * gradient.T\n",
    "    \n",
    "   \n",
    "\n",
    "    cost_old = cost_new\n",
    "    cost_new = calculate_cost(X,y,theta)\n",
    "\n",
    "\n",
    "print(f\"Thetas:{theta}\")\n",
    "print(cost_new)\n",
    "\n",
    "\n",
    "print(f'{X.shape=}')\n",
    "print(f'{y.shape=}')\n",
    "\n",
    "colors = ['red' if x == 0 else 'green' for x in y[0]]\n",
    "labels = {0: \"Nie należy do klasy\", 1: \"Należy do klasy\"}\n",
    "\n",
    "print(X[1,:].min())\n",
    "print(X[1,:].max())\n",
    "\n",
    "\n",
    "for i in range(len(X[0])):\n",
    "    plt.scatter(X[1][i],X[2][i],color=colors[i],label=labels[X[0][i]])\n",
    "x1_db = np.linspace(X[1, :].min(), X[1, :].max(), 100)\n",
    "x2_db = -theta[0, 0]/theta[3, 0] - theta[1, 0]/theta[3, 0]*x1_db - theta[2, 0]/theta[3, 0] * x1_db ** 2 \n",
    "plt.plot(x1_db, x2_db, '-m')\n"
   ]
  },
  {
   "cell_type": "code",
   "execution_count": 62,
   "metadata": {},
   "outputs": [],
   "source": [
    "from sklearn import datasets\n",
    "from sklearn.metrics import confusion_matrix\n",
    "data = datasets.load_digits()\n",
    "y = data['target']\n",
    "x = data['data']\n",
    "\n",
    "from sklearn.model_selection import train_test_split\n",
    " \n",
    "x_train, x_test, y_train, y_test = train_test_split(x, y, test_size=0.2, random_state=1234)\n",
    "n = x_train.shape[1]\n",
    "m = x_train.shape[0]\n",
    "\n",
    "x_scale = np.max(x)\n",
    "no_of_cls = len(np.unique(y))"
   ]
  },
  {
   "cell_type": "code",
   "execution_count": null,
   "metadata": {},
   "outputs": [
    {
     "name": "stdout",
     "output_type": "stream",
     "text": [
      "Optymalizacja dla klasy 0\n",
      "Koszt dla klasy 0: 0.024712244879704998.\n",
      "Optymalizacja dla klasy 1\n",
      "Koszt dla klasy 1: 0.07999142372095482.\n",
      "Optymalizacja dla klasy 2\n",
      "Koszt dla klasy 2: 0.03680661913480624.\n",
      "Optymalizacja dla klasy 3\n",
      "Koszt dla klasy 3: 0.06412520466984338.\n",
      "Optymalizacja dla klasy 4\n",
      "Koszt dla klasy 4: 0.03323337159639592.\n",
      "Optymalizacja dla klasy 5\n",
      "Koszt dla klasy 5: 0.04559741299417798.\n",
      "Optymalizacja dla klasy 6\n",
      "Koszt dla klasy 6: 0.03619988723789158.\n",
      "Optymalizacja dla klasy 7\n",
      "Koszt dla klasy 7: 0.03922239170765806.\n",
      "Optymalizacja dla klasy 8\n",
      "Koszt dla klasy 8: 0.11161659590103386.\n",
      "Optymalizacja dla klasy 9\n",
      "Koszt dla klasy 9: 0.079634832618166.\n"
     ]
    }
   ],
   "source": [
    "theta = []  # kontener na wagi kolejnych modeli\n",
    "eps = 1e-5\n",
    "alpha = 1e-1\n",
    "for cls_id in range(no_of_cls):\n",
    "    print(f'Optymalizacja dla klasy {cls_id}')\n",
    "    y_cls = (y_train == cls_id).astype(np.int8)  # utworzenie macierzy y dla klasy cls_id\n",
    "    y_cls.shape = [1, m]\n",
    "    x_tmp = np.array(x_train) / x_scale  # skalowanie danych, wystarczy podzielić przez maksymalną jasność w zbiorze\n",
    "    X_cls = np.concatenate([np.ones((1, m)), x_tmp.T])  # utworzenie macierzy X\n",
    "    \n",
    "    theta_cls = np.zeros((n+1, 1)) \n",
    " \n",
    "    prev_cost = calculate_cost(X_cls, y_cls, theta_cls)\n",
    "    while True:\n",
    "        # optymalizacja wag theta\n",
    "        \n",
    "        h_y_diff = (h_fun(X_cls, theta_cls) - y_cls)\n",
    "    \n",
    "        gradient = h_y_diff @ X_cls.T\n",
    "        theta_cls = theta_cls - (alpha / m) * gradient.T\n",
    "\n",
    "\n",
    "        current_cost = calculate_cost(X_cls, y_cls, theta_cls)\n",
    "\n",
    " \n",
    "        if math.fabs(prev_cost - current_cost) < eps:\n",
    "            break\n",
    "        prev_cost = current_cost\n",
    "    print(f'Koszt dla klasy {cls_id}: {current_cost}.')\n",
    "    theta.append(theta_cls)"
   ]
  },
  {
   "cell_type": "code",
   "execution_count": 68,
   "metadata": {},
   "outputs": [
    {
     "name": "stdout",
     "output_type": "stream",
     "text": [
      "3\n"
     ]
    },
    {
     "name": "stderr",
     "output_type": "stream",
     "text": [
      "C:\\Users\\pawel\\AppData\\Local\\Temp\\ipykernel_17544\\2934435121.py:10: DeprecationWarning: Conversion of an array with ndim > 0 to a scalar is deprecated, and will error in future. Ensure you extract a single element from your array before performing this operation. (Deprecated NumPy 1.25.)\n",
      "  probabs[cls_id] = 1.0 / (1.0 + np.exp(-theta_cls.T @ X_example))\n"
     ]
    }
   ],
   "source": [
    "y_pred = []\n",
    "\n",
    "for x_sample in x_test:\n",
    "\n",
    "    probabs = np.zeros(no_of_cls)\n",
    "    for cls_id, theta_cls in enumerate(theta):\n",
    "        x_example = np.array(x_sample) / x_scale\n",
    "        X_example = np.array([1, *x_example])\n",
    "        X_example = X_example[..., np.newaxis]\n",
    "        probabs[cls_id] = 1.0 / (1.0 + np.exp(-theta_cls.T @ X_example))\n",
    "\n",
    "    pred = np.argmax(probabs)\n",
    "    y_pred.append(pred)\n",
    "\n",
    "print(pred)"
   ]
  },
  {
   "cell_type": "markdown",
   "metadata": {},
   "source": [
    "Macierz konfuzji"
   ]
  },
  {
   "cell_type": "code",
   "execution_count": null,
   "metadata": {},
   "outputs": [
    {
     "name": "stdout",
     "output_type": "stream",
     "text": [
      "[[28  0  0  0  0  0  0  0  0  0]\n",
      " [ 0 38  0  0  0  0  0  0  0  2]\n",
      " [ 0  1 36  0  0  0  0  1  0  0]\n",
      " [ 0  0  0 35  0  1  0  0  0  0]\n",
      " [ 1  0  0  0 40  0  0  2  1  0]\n",
      " [ 0  0  0  0  0 40  0  0  0  1]\n",
      " [ 0  1  0  0  0  0 31  0  1  0]\n",
      " [ 0  0  0  0  0  0  0 34  0  0]\n",
      " [ 0  3  1  0  0  0  0  0 27  1]\n",
      " [ 0  0  0  0  0  0  0  1  2 31]]\n",
      "Macierz konfuzji:\n",
      "[28.  0.  0.  0.  0.  0.  0.  0.  0.  0.]\n",
      "[ 0. 38.  0.  0.  0.  0.  0.  0.  0.  2.]\n",
      "[ 0.  1. 36.  0.  0.  0.  0.  1.  0.  0.]\n",
      "[ 0.  0.  0. 35.  0.  1.  0.  0.  0.  0.]\n",
      "[ 1.  0.  0.  0. 40.  0.  0.  2.  1.  0.]\n",
      "[ 0.  0.  0.  0.  0. 40.  0.  0.  0.  1.]\n",
      "[ 0.  1.  0.  0.  0.  0. 31.  0.  1.  0.]\n",
      "[ 0.  0.  0.  0.  0.  0.  0. 34.  0.  0.]\n",
      "[ 0.  3.  1.  0.  0.  0.  0.  0. 27.  1.]\n",
      "[ 0.  0.  0.  0.  0.  0.  0.  1.  2. 31.]\n"
     ]
    }
   ],
   "source": [
    "conf_matrix = np.zeros((no_of_cls,no_of_cls))\n",
    "\n",
    "for true_label, pred_label in zip(y_test,y_pred):\n",
    "    conf_matrix[true_label,pred_label] += 1\n",
    "\n",
    "\n",
    "cm = confusion_matrix(y_test, y_pred)\n",
    "print(cm)\n",
    "print(\"Macierz konfuzji:\")\n",
    "for row in conf_matrix:\n",
    "    print(row)\n",
    "\n",
    "\n"
   ]
  },
  {
   "cell_type": "markdown",
   "metadata": {},
   "source": [
    "Raport"
   ]
  },
  {
   "cell_type": "code",
   "execution_count": 79,
   "metadata": {},
   "outputs": [
    {
     "name": "stdout",
     "output_type": "stream",
     "text": [
      "cls | se | pp\n",
      "[[0.         1.         0.96551724]\n",
      " [1.         0.95       0.88372093]\n",
      " [2.         0.94736842 0.97297297]\n",
      " [3.         0.97222222 1.        ]\n",
      " [4.         0.90909091 1.        ]\n",
      " [5.         0.97560976 0.97560976]\n",
      " [6.         0.93939394 1.        ]\n",
      " [7.         1.         0.89473684]\n",
      " [8.         0.84375    0.87096774]\n",
      " [9.         0.91176471 0.88571429]]\n"
     ]
    }
   ],
   "source": [
    "raport = np.zeros((no_of_cls,3))\n",
    "\n",
    "for i in range(no_of_cls):\n",
    "    TP = conf_matrix[i][i]\n",
    "    FN = 0\n",
    "    FP = 0\n",
    "    TN = 0\n",
    "    \n",
    "    # Obliczamy FN, FP i TN\n",
    "    for j in range(no_of_cls):\n",
    "        if i != j: \n",
    "            FP += conf_matrix[j][i]  # False Positives: inne klasy sklasyfikowane jako 'i'\n",
    "            FN += conf_matrix[i][j]  # False Negatives: przypadki klasy 'i' sklasyfikowane błędnie\n",
    "\n",
    "    \n",
    "    se = TP / (TP + FN) if TP + FN != 0 else 0\n",
    "    \n",
    "  \n",
    "    pp = TP / (TP + FP) if TP + FP != 0 else 0\n",
    "\n",
    "   \n",
    "    \n",
    "    raport[i] = [i, se, pp]\n",
    "print(\"cls | se | pp\")\n",
    "print(raport)"
   ]
  }
 ],
 "metadata": {
  "kernelspec": {
   "display_name": "MLlabs",
   "language": "python",
   "name": "python3"
  },
  "language_info": {
   "codemirror_mode": {
    "name": "ipython",
    "version": 3
   },
   "file_extension": ".py",
   "mimetype": "text/x-python",
   "name": "python",
   "nbconvert_exporter": "python",
   "pygments_lexer": "ipython3",
   "version": "3.12.9"
  }
 },
 "nbformat": 4,
 "nbformat_minor": 2
}
