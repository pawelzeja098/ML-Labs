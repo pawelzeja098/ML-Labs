{
 "cells": [
  {
   "cell_type": "code",
   "execution_count": 1,
   "metadata": {},
   "outputs": [],
   "source": [
    "import csv\n",
    "import math\n",
    "import numpy as np\n",
    "from matplotlib import pyplot as plt\n",
    "\n"
   ]
  },
  {
   "cell_type": "markdown",
   "metadata": {},
   "source": [
    "Wczytanie danych"
   ]
  },
  {
   "cell_type": "code",
   "execution_count": 2,
   "metadata": {},
   "outputs": [
    {
     "name": "stdout",
     "output_type": "stream",
     "text": [
      "float32 float32\n"
     ]
    }
   ],
   "source": [
    "with open('./measurements.csv', 'r') as f:\n",
    "    csvreader = csv.reader(f, delimiter=',')\n",
    "    data = [row for row in csvreader]\n",
    "    data = np.array(data, dtype=np.float32)\n",
    "\n",
    "x = data[:, 0]\n",
    "y = data[:, 1]\n",
    "\n",
    "print(x.dtype, y.dtype)\n"
   ]
  },
  {
   "cell_type": "markdown",
   "metadata": {},
   "source": [
    "Funkcja obliczająca przewidywane wartości dla x"
   ]
  },
  {
   "cell_type": "code",
   "execution_count": 3,
   "metadata": {},
   "outputs": [],
   "source": [
    "def h_fun(x, theta_0, theta_1):\n",
    "    '''\n",
    "    :param x: ndarray o wymiarze ilości przykładów\n",
    "    :param theta_0: parametr wolny modelu regresji liniowej jednej zmiennej\n",
    "    :param theta_1: parametr przy xi modelu regresji liniowej jednej zmiennej\n",
    "    :return: ndarray o wymiarze takim samym jak x, który zawiera wartości f. regresji liniowej dla podanych wag\n",
    "    '''\n",
    "\n",
    "    return theta_0 + theta_1 * x\n",
    "    \n",
    "\n",
    "    # todo"
   ]
  },
  {
   "cell_type": "markdown",
   "metadata": {},
   "source": [
    "Funkcja licząca wartości kosztu dla daneych parametrów modelu"
   ]
  },
  {
   "cell_type": "code",
   "execution_count": 4,
   "metadata": {},
   "outputs": [],
   "source": [
    "def calculate_cost(x, y, theta_0, theta_1):\n",
    "    '''\n",
    "    :param x: ndarray o wymiarze ilości przykładów\n",
    "    :param y: ndarray z wartościami referencyjnymi o wymiarze takim jak x\n",
    "    :param theta_0: parametr wolny modelu regresji liniowej jednej zmiennej\n",
    "    :param theta_1: parametr przy xi modelu regresji liniowej jednej zmiennej\n",
    "    :return: wartość funkcji kosztu dla podanych paramterów modelu\n",
    "    '''\n",
    "    m = len(x)\n",
    "    cost = 0\n",
    "\n",
    "    for i in range(m):\n",
    "\n",
    "        cost += ((h_fun(x[i],theta_0,theta_1) - y[i]) ** 2) / (2 * m)\n",
    "    \n",
    "    return cost\n",
    "\n",
    "\n",
    "    # todo"
   ]
  },
  {
   "cell_type": "code",
   "execution_count": 5,
   "metadata": {},
   "outputs": [
    {
     "name": "stdout",
     "output_type": "stream",
     "text": [
      "Theta 0:0.006487626116722822, Theta 1: 0.3153841495513916\n",
      "Koszt:0.6391740441322327\n"
     ]
    },
    {
     "data": {
      "text/plain": [
       "<matplotlib.collections.PathCollection at 0x287676ac2f0>"
      ]
     },
     "execution_count": 5,
     "metadata": {},
     "output_type": "execute_result"
    },
    {
     "data": {
      "image/png": "[encoded data removed]",
      "text/plain": [
       "<Figure size 640x480 with 1 Axes>"
      ]
     },
     "metadata": {},
     "output_type": "display_data"
    }
   ],
   "source": [
    "eps = 1e-5  # akceptowalna różnica dla kolejnych wartości funkcji kosztu \n",
    "alpha = 0.001  # learning rate\n",
    "theta_0 = 0  # - wartości początkowe parametrów modelu\n",
    "theta_1 = 0\n",
    "m = len(x)\n",
    "cost_old = calculate_cost(x,y,theta_0,theta_1)\n",
    "cost_new = np.inf\n",
    "\n",
    "while abs(cost_old - cost_new) > eps:\n",
    "    grad0 = 0\n",
    "    grad1 = 0\n",
    "\n",
    "    for i in range(m):\n",
    "        grad0 += h_fun(x[i],theta_0,theta_1) - y[i]\n",
    "        grad1 += (h_fun(x[i],theta_0,theta_1) - y[i])*x[i]\n",
    "\n",
    "    gradient_theta_0 = (alpha/m) * grad0\n",
    "    gradient_theta_1 = (alpha/m) * grad1\n",
    "\n",
    "    theta_0 -= gradient_theta_0\n",
    "    theta_1 -= gradient_theta_1\n",
    "\n",
    "\n",
    "\n",
    "    cost_old = cost_new\n",
    "    cost_new = calculate_cost(x,y,theta_0,theta_1)\n",
    "\n",
    "\n",
    "print(f\"Theta 0:{theta_0}, Theta 1: {theta_1}\")\n",
    "print(f\"Koszt:{cost_new}\")\n",
    "\n",
    "y_reg = h_fun(x,theta_0,theta_1)\n",
    "\n",
    "plt.plot(x,y_reg)\n",
    "plt.scatter(x,y,color='red')"
   ]
  },
  {
   "cell_type": "markdown",
   "metadata": {},
   "source": [
    "Regresja liniowa wielu zmiennych"
   ]
  },
  {
   "cell_type": "markdown",
   "metadata": {},
   "source": [
    "Zmiana wymiarów"
   ]
  },
  {
   "cell_type": "code",
   "execution_count": 6,
   "metadata": {},
   "outputs": [
    {
     "name": "stdout",
     "output_type": "stream",
     "text": [
      "(2, 100)\n",
      "(1, 100)\n"
     ]
    }
   ],
   "source": [
    "X = np.vstack([np.ones(x.shape), x])\n",
    "y.shape = [1, -1]\n",
    "\n",
    "print(X.shape)\n",
    "print(y.shape)"
   ]
  },
  {
   "cell_type": "code",
   "execution_count": 7,
   "metadata": {},
   "outputs": [],
   "source": [
    "def h_funwz(X, theta):\n",
    "    '''\n",
    "    :param X: ndarray postaci (n+1, m).\n",
    "    :param theta: macierz parametrów do optymalizacji postaci (n+1, 1)\n",
    "    :return: \n",
    "    '''\n",
    "    # print(theta.shape)\n",
    "    # print(X.shape)\n",
    "    # h = theta.T @ X\n",
    "    # print(h.shape)\n",
    "    return theta.T @ X # przykładowa realizacja, @ - mnożenie macierzowe"
   ]
  },
  {
   "cell_type": "code",
   "execution_count": 8,
   "metadata": {},
   "outputs": [],
   "source": [
    "def calculate_costwz(X, y, theta):\n",
    "    '''\n",
    "    :param X: ndarray postaci (n+1, m).\n",
    "    :param y: ndarray z wartościami referencyjnymi o wymiarze (1, m)\n",
    "    :param theta: macierz parametrów do optymalizacji postaci (n+1, 1)\n",
    "    :return: wartość f. kosztu\n",
    "    '''\n",
    "    m = X.shape[1]\n",
    "    cost = 0\n",
    "\n",
    "    \n",
    "\n",
    "    cost = ((h_funwz(X,theta) - y) ** 2)\n",
    "    \n",
    "    np.sum((cost) / (2 * m))\n",
    "\n",
    "    return (cost.sum()) / (2 * m)\n",
    "\n",
    "    \n",
    "    # todo"
   ]
  },
  {
   "cell_type": "code",
   "execution_count": 9,
   "metadata": {},
   "outputs": [
    {
     "name": "stdout",
     "output_type": "stream",
     "text": [
      "Theta:[[0.00648763]\n",
      " [0.31538416]]\n",
      "0.6391738572130962\n"
     ]
    }
   ],
   "source": [
    "eps = 1e-5  # akceptowalna różnica dla kolejnych wartości funkcji kosztu \n",
    "alpha = 0.001  # learning rate\n",
    "theta = np.array([[0], [0]])\n",
    "m = len(x)\n",
    "cost_old = calculate_costwz(X,y,theta)\n",
    "cost_new = np.inf\n",
    "\n",
    "\n",
    "\n",
    "while abs(cost_old - cost_new) > eps:\n",
    "    grad0 = 0\n",
    "    grad1 = 0\n",
    "\n",
    "    # for i in range(m):\n",
    "    #     grad1 += (h_fun(x[i],theta) - y[i]) * x[i]\n",
    "\n",
    "    h_y_diff = (h_funwz(X, theta) - y)\n",
    "    gradient = h_y_diff @ X.T\n",
    "    theta = theta - (alpha / m) * gradient.T\n",
    "    \n",
    "   \n",
    "\n",
    "    cost_old = cost_new\n",
    "    cost_new = calculate_costwz(X,y,theta)\n",
    "\n",
    "\n",
    "print(f\"Theta:{theta}\")\n",
    "print(cost_new)"
   ]
  },
  {
   "cell_type": "markdown",
   "metadata": {},
   "source": [
    "Wczytanie danych housing.txt i przeskalowanie"
   ]
  },
  {
   "cell_type": "code",
   "execution_count": 10,
   "metadata": {},
   "outputs": [],
   "source": [
    "with open('./housing.txt', 'r') as f:\n",
    "    csvreader = csv.reader(f, delimiter=',')\n",
    "    data2 = [row for row in csvreader]\n",
    "    data2 = np.array(data2, dtype=np.float32)\n",
    "    y = data2[:, 2]\n",
    "    y.shape = [1, y.shape[0]]\n",
    "    X = data2[:, 0:2]\n",
    "    X = np.concatenate([np.ones((X.shape[0], 1)), X], axis=1).T\n",
    "\n",
    "y_scale = y.max()\n",
    "y = y / y_scale\n",
    "\n",
    "X_scale = X.max(axis=1)\n",
    "X_scale.shape = [-1, 1]\n",
    "X = X / X_scale"
   ]
  },
  {
   "cell_type": "code",
   "execution_count": 11,
   "metadata": {},
   "outputs": [
    {
     "name": "stdout",
     "output_type": "stream",
     "text": [
      "Theta:[[0.22865282]\n",
      " [0.12295258]\n",
      " [0.15274023]]\n",
      "0.016946854097960415\n",
      "koszt nieruchomosi o pow. 1300 z l. pok. 4 oszacowany na 270538.7460668062\n"
     ]
    }
   ],
   "source": [
    "eps = 1e-5  # akceptowalna różnica dla kolejnych wartości funkcji kosztu \n",
    "alpha = 0.001  # learning rate\n",
    "theta = np.array([[0], [0], [0]])\n",
    "m = len(x)\n",
    "cost_old = calculate_costwz(X,y,theta)\n",
    "cost_new = np.inf\n",
    "\n",
    "\n",
    "\n",
    "while abs(cost_old - cost_new) > eps:\n",
    "    grad0 = 0\n",
    "    grad1 = 0\n",
    "\n",
    "    # for i in range(m):\n",
    "    #     grad1 += (h_fun(x[i],theta) - y[i]) * x[i]\n",
    "\n",
    "    h_y_diff = (h_funwz(X, theta) - y)\n",
    "    gradient = h_y_diff @ X.T\n",
    "    theta = theta - (alpha / m) * gradient.T\n",
    "    \n",
    "   \n",
    "\n",
    "    cost_old = cost_new\n",
    "    cost_new = calculate_costwz(X,y,theta)\n",
    "\n",
    "\n",
    "print(f\"Theta:{theta}\")\n",
    "print(cost_new)\n",
    "\n",
    "example = np.array([[1], [1300], [4]])\n",
    "h_example = theta.T @ (example/X_scale) * y_scale\n",
    "print(f'koszt nieruchomosi o pow. {example[1][0]} z l. pok. {example[2][0]} oszacowany na {h_example[0][0]}')"
   ]
  },
  {
   "cell_type": "markdown",
   "metadata": {},
   "source": [
    "Regresja wielomianowa"
   ]
  },
  {
   "cell_type": "markdown",
   "metadata": {},
   "source": [
    "Przygotowanie macierzy X i przeskalowanie danych"
   ]
  },
  {
   "cell_type": "code",
   "execution_count": 12,
   "metadata": {},
   "outputs": [],
   "source": [
    "with open('./measurements.csv', 'r') as f:\n",
    "    csvreader = csv.reader(f, delimiter=',')\n",
    "    data = [row for row in csvreader]\n",
    "    data = np.array(data, dtype=np.float32)\n",
    "\n",
    "x = data[:, 0]\n",
    "y = data[:, 1]\n",
    "\n",
    "X = np.vstack([np.ones(x.shape), x, x**2, x**3])\n",
    "\n",
    "X_scale = X.max(axis=1)\n",
    "X_scale.shape = [-1, 1]\n",
    "X = X / X_scale\n",
    " \n",
    "y.shape = [1, -1]\n",
    "y_scale = y.max()\n",
    "y = y / y_scale"
   ]
  },
  {
   "cell_type": "markdown",
   "metadata": {},
   "source": [
    "Wywołanie funkcji regresji wielomianowej i pokazanie wyników"
   ]
  },
  {
   "cell_type": "code",
   "execution_count": null,
   "metadata": {},
   "outputs": [
    {
     "name": "stdout",
     "output_type": "stream",
     "text": [
      "Thetas:[[ 0.02528658]\n",
      " [ 0.77921902]\n",
      " [-0.49718083]\n",
      " [ 0.65075679]]\n",
      "0.0003266653045008868\n"
     ]
    },
    {
     "data": {
      "image/png": "[encoded data removed]",
      "text/plain": [
       "<Figure size 640x480 with 1 Axes>"
      ]
     },
     "metadata": {},
     "output_type": "display_data"
    }
   ],
   "source": [
    "eps = 1e-10\n",
    "alpha = 1e-3\n",
    "theta = np.array([[0], [0], [0], [0]])\n",
    "\n",
    "y.shape = (1, 100)\n",
    "X.shape = (4, 100)\n",
    "theta.shape = (4, 1)\n",
    "cost_old = calculate_costwz(X,y,theta)\n",
    "cost_new = np.inf\n",
    "\n",
    "\n",
    "\n",
    "\n",
    "while abs(cost_old - cost_new) > eps:\n",
    "    grad0 = 0\n",
    "    grad1 = 0\n",
    "\n",
    "    # for i in range(m):\n",
    "    #     grad1 += (h_fun(x[i],theta) - y[i]) * x[i]\n",
    "\n",
    "    h_y_diff = (h_funwz(X, theta) - y)\n",
    "    h_y_diff.shape = (1,100)\n",
    "    gradient = h_y_diff @ X.T\n",
    "    theta = theta - (alpha / m) * gradient.T\n",
    "    \n",
    "   \n",
    "\n",
    "    cost_old = cost_new\n",
    "    cost_new = calculate_costwz(X,y,theta)\n",
    "\n",
    "\n",
    "print(f\"Thetas:{theta}\")\n",
    "print(cost_new)\n",
    "\n",
    "y_reg = h_funwz(X,theta)\n",
    "\n",
    "y_reg.shape = (1, 100)\n",
    "x.shape = (1,100)\n",
    "y.shape = (1,100)\n",
    "\n",
    "plt.plot(np.array(x).reshape(-1), np.array(y_reg).reshape(-1))\n",
    "plt.scatter(x,y,color='red')\n",
    "plt.show()"
   ]
  }
 ],
 "metadata": {
  "kernelspec": {
   "display_name": "MLlabs",
   "language": "python",
   "name": "python3"
  },
  "language_info": {
   "codemirror_mode": {
    "name": "ipython",
    "version": 3
   },
   "file_extension": ".py",
   "mimetype": "text/x-python",
   "name": "python",
   "nbconvert_exporter": "python",
   "pygments_lexer": "ipython3",
   "version": "3.12.9"
  }
 },
 "nbformat": 4,
 "nbformat_minor": 2
}
