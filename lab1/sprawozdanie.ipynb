{
 "cells": [
  {
   "cell_type": "markdown",
   "metadata": {
    "slideshow": {
     "slide_type": "notes"
    }
   },
   "source": [
    "# <center>Laboratorium <br>Metod Numerycznych <br> Aproksymacja</center>"
   ]
  },
  {
   "cell_type": "markdown",
   "metadata": {
    "slideshow": {
     "slide_type": "notes"
    }
   },
   "source": [
    "Instrukcja:  \n",
    "Na zajęciach należy wykonać poniższe zadania, dokonać testu na platformie github, a następnie sporządzić sprawozdanie zawierające odpowiedzi z komentarzami."
   ]
  },
  {
   "cell_type": "code",
   "execution_count": null,
   "metadata": {
    "is_executing": true
   },
   "outputs": [],
   "source": [
    "import numpy as np\n",
    "import matplotlib.pyplot as plt\n",
    "from scipy.interpolate import splrep, splev, BSpline\n"
   ]
  },
  {
   "cell_type": "markdown",
   "metadata": {},
   "source": [
    "\n",
    "Aproksymacja funkcji jest fundamentalnym zagadnieniem w analizie numerycznej, które polega na przybliżaniu funkcji bardziej skomplikowanej przez funkcję prostszą. Jest to szczególnie użyteczne w przypadkach, kiedy mamy do czynienia z funkcjami trudnymi do analizy lub gdy potrzebujemy szybkich obliczeń numerycznych.\n",
    "\n",
    "**[Metoda Najmniejszych Kwadratów](https://en.wikipedia.org/wiki/Least_squares)**\n",
    "\n",
    "Metoda najmniejszych kwadratów jest jedną z najczęściej stosowanych technik aproksymacji. Polega ona na minimalizacji sumy kwadratów różnic między wartościami obserwowanymi a wartościami przewidywanymi przez model aproksymacyjny. Matematycznie, jeśli mamy zbiór danych $(x_i, y_i)$, szukamy funkcji $f(x)$, która minimalizuje:\n",
    "$\n",
    "S = \\sum_{i=1}^n \\left(y_i - f(x_i)\\right)^2\n",
    "$\n",
    "\n",
    "**[Funkcje Sklejane (Splines)](https://en.wikipedia.org/wiki/Spline_(mathematics))**\n",
    "\n",
    "Funkcje sklejane, znane również jako splines, to kolejna popularna technika aproksymacji. Splines to ciągłe i gładkie funkcje, które są definiowane kawałkami przez wielomiany. W przeciwieństwie do globalnych metod aproksymacji, jak wielomiany wysokiego stopnia, splines unikają problemu oscylacji, oferując lepszą kontrolę nad kształtem krzywej aproksymacyjnej.\n",
    "\n",
    "**[B-Splines](https://en.wikipedia.org/wiki/B-spline)**\n",
    "\n",
    "B-Splines, czyli bazowe splines, stanowią rozszerzenie idei funkcji sklejanych. Są to specjalne rodzaje splines, które zapewniają dodatkową elastyczność i kontrolę nad kształtem krzywej. B-Splines są zdefiniowane jako liniowa kombinacja funkcji bazowych."
   ]
  },
  {
   "cell_type": "markdown",
   "metadata": {},
   "source": [
    "***Zadanie 1.***\n",
    "\n",
    "Napisz skrypt w języku Python, który dokona aproksymacji liniowej funkcji sinus:\n",
    "\n",
    "$$y = sin(x)$$\n",
    "\n",
    "na przedziale od 0 do 2π używając metody najmniejszych kwadratów. Wygeneruj zbiór danych składający się z minimum 50 punktów z równymi odstępami w tym przedziale. Twoje zadanie polega na znalezieniu najlepiej dopasowanej linii prostej do tych danych.\n",
    "\n",
    "Rozwiązanie powinno zawierać nasstępujące punkty:\n",
    "\n",
    "1) Wygeneruj zbiór danych (x, y), gdzie y to wartości sin(x).\n",
    "2) Napisz funkcję wykonującą aproksymację liniową metodą najmniejszych kwadratów (funkcja *linear_least_squares* z main.py).\n",
    "3) Wyświetl oryginalne dane i dopasowaną linię na wykresie."
   ]
  },
  {
   "cell_type": "code",
   "execution_count": null,
   "outputs": [],
   "source": [
    "# x = np.linspace(0, 2 * np.pi,50)\n",
    "# y = np.sin(x)\n"
   ],
   "metadata": {
    "collapsed": false,
    "is_executing": true
   }
  },
  {
   "cell_type": "markdown",
   "metadata": {},
   "source": [
    "***Zadanie 2.***\n",
    "\n",
    "Napisz skrypt w języku Python, który dokona aproksymacji wielmianowej stopnia pierwszego oraz trzeciego funkcji z poprzedniego zadania równiez na przedziale od 0 do 2π, używając metody najmniejszych kwadratów. \n",
    "Wygeneruj zbiór danych składający się z minimum 50 punktów z równymi odstępami w tym przedziale.\n",
    "Do wykonania obu aproksymacji uzyj funkcji *np.polyfit*. oraz *np.poly1d*.\n",
    "Zobrazuj obie aproksymacji w zestawieniu z oryginalną funkcją na jednym wykresie.\n"
   ]
  },
  {
   "cell_type": "markdown",
   "metadata": {},
   "source": [
    "***Zadanie 3.***\n",
    "\n",
    "Napisz skrypt w języku Python, który dokona aproksymacji funckjami sklejanymi stopnia trzeciego funkcji na przedziale $[-1;1]$:\n",
    "\n",
    "$$f(x) = \\frac{1}{1 + 25x^2}$$\n",
    "\n",
    "Wygeneruj dwa warianty danych dla funkcji:\n",
    "Pierwszy zestaw z 15 równomiernie rozłożonymi punktami.\n",
    "Drugi zestaw z 15 punktami węzłów Czebyszewa (za pomoca funkcji *cheb_roots* z pliku main.py).\n",
    "\n",
    "Następnie dokonaj aproksymacji tych danych przy użyciu funkcji sklejanych (splajnów) trzeciego stopnia dla obu zestawów punktów.\n",
    "Wyświetl na wykresie zarówno wygenerowane dane, krzywe aproksymacji dla obu zestawów punktów, jak i oryginalny przebieg funkcji.\n",
    "Wykorzystaj funkcje scipy.interpolate.splrep i scipy.interpolate.splev z biblioteki SciPy do stworzenia i ewaluacji splajnów.\n",
    "Do wizualizacji wyników użyj matplotlib.\n",
    "\n",
    "Porównaj jakość dopasowania dla obu przypadków i zwróć uwagę na efekt Rungego. \n",
    "*Czy wykorzystanie węzłów Czebysheva jest dobrym rozwiązaniem eliminacji problem efektu Rungego w tym przypadku? Uzasadnij odpowiedź.*\n",
    "\n"
   ]
  },
  {
   "cell_type": "markdown",
   "metadata": {},
   "source": [
    "***Zadanie 4.***\n",
    "\n",
    "Napisz skrypt w języku Python, który dokona aproksymacji funckjami Bspline na przedziale $[-5;5]$:\n",
    "\n",
    "$$y = \\sin(x) + 0.1x^2$$\n",
    "\n",
    "używając 20 równomiernie rozłożonych punktów jako danych.Użyj B-splajnów do aproksymacji tych danych. Zastosuj B-splajny trzeciego stopnia. Porównaj krzywą aproksymacji z oryginalnymi danymi na wykresie. Podaj krótką analizę jakości dopasowania B-splajnów do danych.\n",
    "\n",
    "Do utworzenia tej aproksymacji przydatne będą funkcje: *scipy.interpolate.splrep* oraz *scipy.interpolate.BSpline*\n",
    "\n",
    "\n"
   ]
  },
  {
   "cell_type": "markdown",
   "metadata": {},
   "source": [
    "Materiały uzupełniające:\n",
    "- [Scipy Lecture Notes](http://www.scipy-lectures.org/index.html)\n",
    "- [NumPy for Matlab users](https://docs.scipy.org/doc/numpy/user/numpy-for-matlab-users.html#numpy-for-matlab-users)\n",
    "- [Python Tutorial - W3Schools](https://www.w3schools.com/python/default.asp)\n",
    "- [NumPy](https://www.numpy.org)\n",
    "- [Matplotlib](https://matplotlib.org/)\n",
    "- [Anaconda](https://www.anaconda.com/)\n",
    "- [Learn Python for Data Science](https://www.datacamp.com/learn-python-with-anaconda?utm_source=Anaconda_download&utm_campaign=datacamp_training&utm_medium=banner)\n",
    "- [Learn Python](https://www.learnpython.org/)\n",
    "- [Wujek Google](https://google.pl) i [Ciocia Wikipedia](https://pl.wikipedia.org/wiki/Wikipedia:Strona_g%C5%82%C3%B3wna)"
   ]
  }
 ],
 "metadata": {
  "celltoolbar": "Raw Cell Format",
  "kernelspec": {
   "display_name": "Python 3",
   "language": "python",
   "name": "python3"
  },
  "language_info": {
   "codemirror_mode": {
    "name": "ipython",
    "version": 3
   },
   "file_extension": ".py",
   "mimetype": "text/x-python",
   "name": "python",
   "nbconvert_exporter": "python",
   "pygments_lexer": "ipython3",
   "version": "3.9.6"
  }
 },
 "nbformat": 4,
 "nbformat_minor": 2
}
