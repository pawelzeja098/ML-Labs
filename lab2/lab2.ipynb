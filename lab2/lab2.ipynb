{
 "cells": [
  {
   "cell_type": "code",
   "execution_count": 54,
   "metadata": {},
   "outputs": [],
   "source": [
    "import csv\n",
    "import math\n",
    "import numpy as np\n",
    "from matplotlib import pyplot as plt\n",
    "\n"
   ]
  },
  {
   "cell_type": "markdown",
   "metadata": {},
   "source": [
    "Wczytanie danych"
   ]
  },
  {
   "cell_type": "code",
   "execution_count": 55,
   "metadata": {},
   "outputs": [
    {
     "name": "stdout",
     "output_type": "stream",
     "text": [
      "float32 float32\n"
     ]
    }
   ],
   "source": [
    "with open('./measurements.csv', 'r') as f:\n",
    "    csvreader = csv.reader(f, delimiter=',')\n",
    "    data = [row for row in csvreader]\n",
    "    data = np.array(data, dtype=np.float32)\n",
    "\n",
    "x = data[:, 0]\n",
    "y = data[:, 1]\n",
    "\n",
    "print(x.dtype, y.dtype)\n"
   ]
  },
  {
   "cell_type": "markdown",
   "metadata": {},
   "source": [
    "Funkcja obliczająca przewidywane wartości dla x"
   ]
  },
  {
   "cell_type": "code",
   "execution_count": 56,
   "metadata": {},
   "outputs": [],
   "source": [
    "def h_fun(x, theta_0, theta_1):\n",
    "    '''\n",
    "    :param x: ndarray o wymiarze ilości przykładów\n",
    "    :param theta_0: parametr wolny modelu regresji liniowej jednej zmiennej\n",
    "    :param theta_1: parametr przy xi modelu regresji liniowej jednej zmiennej\n",
    "    :return: ndarray o wymiarze takim samym jak x, który zawiera wartości f. regresji liniowej dla podanych wag\n",
    "    '''\n",
    "\n",
    "    return theta_0 + theta_1 * x\n",
    "    \n",
    "\n",
    "    # todo"
   ]
  },
  {
   "cell_type": "markdown",
   "metadata": {},
   "source": [
    "Funkcja licząca wartości kosztu dla daneych parametrów modelu"
   ]
  },
  {
   "cell_type": "code",
   "execution_count": 57,
   "metadata": {},
   "outputs": [],
   "source": [
    "def calculate_cost(x, y, theta_0, theta_1):\n",
    "    '''\n",
    "    :param x: ndarray o wymiarze ilości przykładów\n",
    "    :param y: ndarray z wartościami referencyjnymi o wymiarze takim jak x\n",
    "    :param theta_0: parametr wolny modelu regresji liniowej jednej zmiennej\n",
    "    :param theta_1: parametr przy xi modelu regresji liniowej jednej zmiennej\n",
    "    :return: wartość funkcji kosztu dla podanych paramterów modelu\n",
    "    '''\n",
    "    m = len(x)\n",
    "    cost = 0\n",
    "\n",
    "    for i in range(m):\n",
    "\n",
    "        cost += ((h_fun(x[i],theta_0,theta_1) - y[i]) ** 2) / (2 * m)\n",
    "    \n",
    "    return cost\n",
    "\n",
    "\n",
    "    # todo"
   ]
  },
  {
   "cell_type": "code",
   "execution_count": 58,
   "metadata": {},
   "outputs": [
    {
     "name": "stdout",
     "output_type": "stream",
     "text": [
      "Theta 0:0.006487626116722822, Theta 1: 0.3153841495513916\n",
      "Koszt:0.6391740441322327\n"
     ]
    },
    {
     "data": {
      "text/plain": [
       "<matplotlib.collections.PathCollection at 0x23616229160>"
      ]
     },
     "execution_count": 58,
     "metadata": {},
     "output_type": "execute_result"
    },
    {
     "data": {
      "image/png": "[encoded data removed]",
      "text/plain": [
       "<Figure size 640x480 with 1 Axes>"
      ]
     },
     "metadata": {},
     "output_type": "display_data"
    }
   ],
   "source": [
    "eps = 1e-5  # akceptowalna różnica dla kolejnych wartości funkcji kosztu \n",
    "alpha = 0.001  # learning rate\n",
    "theta_0 = 0  # - wartości początkowe parametrów modelu\n",
    "theta_1 = 0\n",
    "m = len(x)\n",
    "cost_old = calculate_cost(x,y,theta_0,theta_1)\n",
    "cost_new = np.inf\n",
    "\n",
    "while abs(cost_old - cost_new) > eps:\n",
    "    grad0 = 0\n",
    "    grad1 = 0\n",
    "\n",
    "    for i in range(m):\n",
    "        grad0 += h_fun(x[i],theta_0,theta_1) - y[i]\n",
    "        grad1 += (h_fun(x[i],theta_0,theta_1) - y[i])*x[i]\n",
    "\n",
    "    gradient_theta_0 = (alpha/m) * grad0\n",
    "    gradient_theta_1 = (alpha/m) * grad1\n",
    "\n",
    "    theta_0 -= gradient_theta_0\n",
    "    theta_1 -= gradient_theta_1\n",
    "\n",
    "\n",
    "\n",
    "    cost_old = cost_new\n",
    "    cost_new = calculate_cost(x,y,theta_0,theta_1)\n",
    "\n",
    "\n",
    "print(f\"Theta 0:{theta_0}, Theta 1: {theta_1}\")\n",
    "print(f\"Koszt:{cost_new}\")\n",
    "\n",
    "y_reg = h_fun(x,theta_0,theta_1)\n",
    "\n",
    "plt.plot(x,y_reg)\n",
    "plt.scatter(x,y,color='red')"
   ]
  },
  {
   "cell_type": "markdown",
   "metadata": {},
   "source": [
    "Regresja liniowa wielu zmiennych"
   ]
  },
  {
   "cell_type": "markdown",
   "metadata": {},
   "source": [
    "Zmiana wymiarów"
   ]
  },
  {
   "cell_type": "code",
   "execution_count": 59,
   "metadata": {},
   "outputs": [
    {
     "name": "stdout",
     "output_type": "stream",
     "text": [
      "(2, 100)\n",
      "(1, 100)\n"
     ]
    }
   ],
   "source": [
    "X = np.vstack([np.ones(x.shape), x])\n",
    "y.shape = [1, -1]\n",
    "\n",
    "print(X.shape)\n",
    "print(y.shape)"
   ]
  },
  {
   "cell_type": "code",
   "execution_count": 60,
   "metadata": {},
   "outputs": [],
   "source": [
    "def h_funwz(X, theta):\n",
    "    '''\n",
    "    :param X: ndarray postaci (n+1, m).\n",
    "    :param theta: macierz parametrów do optymalizacji postaci (n+1, 1)\n",
    "    :return: \n",
    "    '''\n",
    "    print(theta.shape)\n",
    "    print(X.shape)\n",
    "    return theta.T @ X # przykładowa realizacja, @ - mnożenie macierzowe"
   ]
  },
  {
   "cell_type": "code",
   "execution_count": null,
   "metadata": {},
   "outputs": [],
   "source": [
    "def calculate_costwz(X, y, theta):\n",
    "    '''\n",
    "    :param X: ndarray postaci (n+1, m).\n",
    "    :param y: ndarray z wartościami referencyjnymi o wymiarze (1, m)\n",
    "    :param theta: macierz parametrów do optymalizacji postaci (n+1, 1)\n",
    "    :return: wartość f. kosztu\n",
    "    '''\n",
    "    m = len(X)\n",
    "    cost = 0\n",
    "\n",
    "    \n",
    "\n",
    "    cost = ((h_funwz(X,theta) - y) ** 2) \n",
    "    \n",
    "    return cost.sum() / (2 * m)\n",
    "\n",
    "    \n",
    "    # todo"
   ]
  },
  {
   "cell_type": "code",
   "execution_count": 63,
   "metadata": {},
   "outputs": [
    {
     "name": "stdout",
     "output_type": "stream",
     "text": [
      "(2, 1)\n",
      "(2, 100)\n"
     ]
    },
    {
     "ename": "ValueError",
     "evalue": "The truth value of an array with more than one element is ambiguous. Use a.any() or a.all()",
     "output_type": "error",
     "traceback": [
      "\u001b[31m---------------------------------------------------------------------------\u001b[39m",
      "\u001b[31mValueError\u001b[39m                                Traceback (most recent call last)",
      "\u001b[36mCell\u001b[39m\u001b[36m \u001b[39m\u001b[32mIn[63]\u001b[39m\u001b[32m, line 10\u001b[39m\n\u001b[32m      5\u001b[39m cost_old = calculate_costwz(X,y,theta)\n\u001b[32m      6\u001b[39m cost_new = np.inf\n\u001b[32m---> \u001b[39m\u001b[32m10\u001b[39m \u001b[38;5;28;01mwhile\u001b[39;00m \u001b[38;5;28mabs\u001b[39m(cost_old - cost_new) > eps:\n\u001b[32m     11\u001b[39m     grad0 = \u001b[32m0\u001b[39m\n\u001b[32m     12\u001b[39m     grad1 = \u001b[32m0\u001b[39m\n",
      "\u001b[31mValueError\u001b[39m: The truth value of an array with more than one element is ambiguous. Use a.any() or a.all()"
     ]
    }
   ],
   "source": [
    "eps = 1e-5  # akceptowalna różnica dla kolejnych wartości funkcji kosztu \n",
    "alpha = 0.001  # learning rate\n",
    "theta = np.array([[0], [0]])\n",
    "m = len(x)\n",
    "cost_old = calculate_costwz(X,y,theta)\n",
    "cost_new = np.inf\n",
    "\n",
    "\n",
    "\n",
    "while abs(cost_old - cost_new) > eps:\n",
    "    grad0 = 0\n",
    "    grad1 = 0\n",
    "\n",
    "    # for i in range(m):\n",
    "    #     grad1 += (h_fun(x[i],theta) - y[i]) * x[i]\n",
    "\n",
    "    h_y_diff = (h_funwz(X, theta) - y)\n",
    "    gradient = h_y_diff @ X.T\n",
    "    theta = theta - alpha * gradient.T / m\n",
    "\n",
    "    cost_old = cost_new\n",
    "    cost_new = calculate_costwz(X,y,theta)\n",
    "\n",
    "\n",
    "print(f\"Theta:{theta}\")"
   ]
  }
 ],
 "metadata": {
  "kernelspec": {
   "display_name": "MLAgh",
   "language": "python",
   "name": "python3"
  },
  "language_info": {
   "codemirror_mode": {
    "name": "ipython",
    "version": 3
   },
   "file_extension": ".py",
   "mimetype": "text/x-python",
   "name": "python",
   "nbconvert_exporter": "python",
   "pygments_lexer": "ipython3",
   "version": "3.12.9"
  }
 },
 "nbformat": 4,
 "nbformat_minor": 2
}
