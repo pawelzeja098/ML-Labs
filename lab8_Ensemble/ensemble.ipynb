{
 "cells": [
  {
   "cell_type": "code",
   "execution_count": 37,
   "id": "231f409c",
   "metadata": {},
   "outputs": [],
   "source": [
    "import numpy as np\n",
    "import matplotlib.pyplot as plt\n",
    "from sklearn import tree, ensemble, datasets\n",
    "from sklearn.tree import DecisionTreeClassifier\n",
    "from sklearn.ensemble import BaggingClassifier, AdaBoostClassifier, GradientBoostingClassifier\n",
    "from sklearn.model_selection import cross_val_score"
   ]
  },
  {
   "cell_type": "markdown",
   "id": "f767d1b5",
   "metadata": {},
   "source": [
    "Dane"
   ]
  },
  {
   "cell_type": "code",
   "execution_count": 38,
   "id": "a2d70b26",
   "metadata": {},
   "outputs": [],
   "source": [
    "data = datasets.load_wine() \n",
    "X = data.data\n",
    "y = data.target\n"
   ]
  },
  {
   "cell_type": "markdown",
   "id": "d52553fa",
   "metadata": {},
   "source": [
    "Klasyfikatory"
   ]
  },
  {
   "cell_type": "code",
   "execution_count": 39,
   "id": "cedbc838",
   "metadata": {},
   "outputs": [],
   "source": [
    "\n",
    "DTC = DecisionTreeClassifier(min_samples_leaf=3,\n",
    "                            max_depth=1,\n",
    "                            random_state=42)\n",
    "\n",
    "\n",
    "BC = BaggingClassifier(estimator = DTC,\n",
    "                        n_estimators = 50,\n",
    "                        random_state=42)\n",
    "\n",
    "\n",
    "ABC = AdaBoostClassifier(estimator = DTC,\n",
    "                        n_estimators = 50,\n",
    "                        random_state=42)\n",
    "\n",
    "\n",
    "GBC = GradientBoostingClassifier(min_samples_leaf=3, \n",
    "                                n_estimators = 50,\n",
    "                                max_depth=1,\n",
    "                                learning_rate=1,\n",
    "                                subsample=0.5,\n",
    "                                random_state=42)"
   ]
  },
  {
   "cell_type": "markdown",
   "id": "e226762d",
   "metadata": {},
   "source": [
    "5-cio krotna walidacja krzyżowa"
   ]
  },
  {
   "cell_type": "code",
   "execution_count": 40,
   "id": "1b5b708e",
   "metadata": {},
   "outputs": [
    {
     "name": "stdout",
     "output_type": "stream",
     "text": [
      "DecisionTreeClassifier średnia skuteczność: 0.6463\n",
      "BaggingClassifier średnia skuteczność: 0.8262\n",
      "AdaBoostClassifier średnia skuteczność: 0.9333\n",
      "GradientBoostingClassifier średnia skuteczność: 0.9606\n"
     ]
    }
   ],
   "source": [
    "DTC_score = cross_val_score(DTC, X, y, cv=5)\n",
    "\n",
    "BC_score = cross_val_score(BC, X, y, cv=5)\n",
    "\n",
    "ABC_score = cross_val_score(ABC, X, y, cv=5)\n",
    "\n",
    "GBC_score = cross_val_score(GBC, X, y, cv=5)\n",
    "\n",
    "\n",
    "\n",
    "\n",
    "print(f\"DecisionTreeClassifier średnia skuteczność: {DTC_score.mean():.4f}\")\n",
    "print(f\"BaggingClassifier średnia skuteczność: {BC_score.mean():.4f}\")\n",
    "print(f\"AdaBoostClassifier średnia skuteczność: {ABC_score.mean():.4f}\")\n",
    "print(f\"GradientBoostingClassifier średnia skuteczność: {GBC_score.mean():.4f}\")"
   ]
  }
 ],
 "metadata": {
  "kernelspec": {
   "display_name": "MLlabs",
   "language": "python",
   "name": "python3"
  },
  "language_info": {
   "codemirror_mode": {
    "name": "ipython",
    "version": 3
   },
   "file_extension": ".py",
   "mimetype": "text/x-python",
   "name": "python",
   "nbconvert_exporter": "python",
   "pygments_lexer": "ipython3",
   "version": "3.12.9"
  }
 },
 "nbformat": 4,
 "nbformat_minor": 5
}
